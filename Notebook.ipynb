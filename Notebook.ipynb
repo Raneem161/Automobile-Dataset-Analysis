{
  "cells": [
    {
      "cell_type": "markdown",
      "metadata": {
        "id": "DxuIlNixlyh6"
      },
      "source": [
        "# Analysis of automobile dataset"
      ]
    },
    {
      "cell_type": "markdown",
      "metadata": {
        "id": "fbXoGqTwlyh7"
      },
      "source": [
        "# 1- Definition of the general types of data analytics.\n"
      ]
    },
    {
      "cell_type": "markdown",
      "metadata": {
        "id": "yO4h16xvlyh8"
      },
      "source": [
        "Data analytics ,which is the science of evaluating raw data to make outcomes out of it, has 4 general types as follows:-\n",
        "\n",
        "1- Descriptive analytics.  \n",
        "   \n",
        "   The goal of descriptive analytics is to provide a description of what happened to provide insights into the past. In this        level of analytics, the results rarely indicate that something is wrong or right, the reasons for their existence are not        explained.\n",
        "\n",
        "2- Diagnostic analytics.\n",
        "   \n",
        "   In this stage, historical information can be categorized against other data to clarify why a particular event occurred.Using    diagnostic analytics, an overview of the issues in questions can be get.\n",
        "   \n",
        "3- Predictive analytics.\n",
        "   \n",
        "   This type of analytics explains what will happen - with degrees of predection-. It identifies bunches and special cases using    descriptive and diagnostic analytics and predicts future trends, which makes it a valuable tool for estimating future trends.\n",
        "   \n",
        "4- Prescriptive analytics.\n",
        "   \n",
        "   This type of analytics is useful to prescribe what step to take to eliminate a problem or take full advantage of an              opportunity. In order to implement and manage predictive analytics, advanced tools and technologies are applied, such as        machine learning, business rules, and algorithms.\n",
        "\n",
        "Reference:- https://www.analyticssteps.com/blogs/what-data-analytics-and-its-types"
      ]
    },
    {
      "cell_type": "markdown",
      "metadata": {
        "id": "GJFdvrvQlyh9"
      },
      "source": [
        "# 2- Explanation of what the dataset is and what features it has."
      ]
    },
    {
      "cell_type": "code",
      "execution_count": null,
      "metadata": {
        "id": "lYM3NHD8lyh-",
        "outputId": "259ba3fa-83f5-4bc9-a993-d7bbd83192fb"
      },
      "outputs": [
        {
          "data": {
            "text/plain": [
              "(205, 26)"
            ]
          },
          "execution_count": 1,
          "metadata": {},
          "output_type": "execute_result"
        }
      ],
      "source": [
        "# Exploring the dataset using EDA\n",
        "\n",
        "# Importing necessary libraries\n",
        "import numpy as np\n",
        "import pandas as pd\n",
        "\n",
        "# Reading the data\n",
        "df = pd.read_csv('CarPrices.csv', sep=',')\n",
        "df.shape"
      ]
    },
    {
      "cell_type": "markdown",
      "metadata": {
        "id": "jTIBTmoklyh_"
      },
      "source": [
        "The dataset has 205 rows/instances and 26 columns/features."
      ]
    },
    {
      "cell_type": "code",
      "execution_count": null,
      "metadata": {
        "id": "FObpETuvlyh_",
        "outputId": "90b5e90f-baaf-4cba-924a-a04e165b0ab0"
      },
      "outputs": [
        {
          "data": {
            "text/plain": [
              "Index(['car_ID', 'symboling', 'CarName', 'fueltype', 'aspiration',\n",
              "       'doornumber', 'carbody', 'drivewheel', 'enginelocation', 'wheelbase',\n",
              "       'carlength', 'carwidth', 'carheight', 'curbweight', 'enginetype',\n",
              "       'cylindernumber', 'enginesize', 'fuelsystem', 'boreratio', 'stroke',\n",
              "       'compressionratio', 'horsepower', 'peakrpm', 'citympg', 'highwaympg',\n",
              "       'price'],\n",
              "      dtype='object')"
            ]
          },
          "execution_count": 2,
          "metadata": {},
          "output_type": "execute_result"
        }
      ],
      "source": [
        "# Exploring the dataset's features\n",
        "df.columns"
      ]
    },
    {
      "cell_type": "markdown",
      "metadata": {
        "id": "xDt5sRGMlyh_"
      },
      "source": [
        "As clear from the column names and after a quick research, I concluded that the dataset in general is an automobile dataset, and the goal is to understand the factors on which the pricing of cars depends.\n",
        "\n",
        "The information provided for each car is as follows:-\n",
        "\n",
        "1. car_ID:-          unique numbering of each car.\n",
        "\n",
        "\n",
        "2. symboling:-       corresponds to the insurance risk level of a car. Cars are initially assigned a risk factor symbol                              associated with their price. Then, if an automobile is riskier, this symbol is adjusted by moving it up the                      scale. A value of +3 indicates that the auto is risky, -3 that it is probably pretty safe.\n",
        "\n",
        "\n",
        "3. CarName:-         name of each car.\n",
        "\n",
        "\n",
        "4. fueltype:-        type of fuel each car uses.\n",
        "\n",
        "\n",
        "5. Aspiration:-      aspiration type of each car's engine.\n",
        "\n",
        "\n",
        "6. Door Number:-     number of doors for each car.\n",
        "\n",
        "\n",
        "7. Car body:-        type of carbody for each car.\n",
        "\n",
        "\n",
        "8. Drive wheel:-     type of drive wheels in each car.\n",
        "\n",
        "\n",
        "9. Engine location:- location of engine in each car.\n",
        "\n",
        "\n",
        "10. Wheelbase:-      the distance between the centre of the front wheels and the centre of the rear wheels in each car.\n",
        "\n",
        "\n",
        "11. Car length:-     the length of each car.\n",
        "\n",
        "\n",
        "12. Car width:-      the width of each car.\n",
        "\n",
        "\n",
        "13. Car height:-     the height of each car.\n",
        "\n",
        "\n",
        "14. Curb weight:-    the weight of eacc car including a full tank of fuel and all standard equipment.\n",
        "\n",
        "\n",
        "15. Engine type:-    the type of engine for each car.\n",
        "\n",
        "\n",
        "16. Cylinder number:- number of cylinders of the engine in each car (The cylinders in  car's engine convert the energy needed to                       make the car move).\n",
        "\n",
        "\n",
        "17. Engine size:-     the size of the engine of each car.\n",
        "\n",
        "\n",
        "18. Fuel system:-     the type of fuel system in each car (responsible for delivering fuel to the engine as needed).\n",
        "\n",
        "\n",
        "19. Bore ratio:-      the ratio between the dimensions of the engine cylinder bore diameter to its piston stroke-length in each                       car. It is  an important factor which determines engine's power & torque characteristics.\n",
        "\n",
        "\n",
        "20. Stroke:-          how far the piston travels in the cylinder in each car.\n",
        "\n",
        "\n",
        "21. Compression ratio:- the ratio of the volume of the cylinder and its head space in each car.\n",
        "\n",
        "\n",
        "22. Horse power:-     the metric used to indicate the power produced by a car's engine for each car.\n",
        "\n",
        "\n",
        "23. Peak rpm:-        RPM stands for revolutions per minute (or revs per minute) and this significant gauge tells the driver how                       fast the engine is spinning. peak RPM is the peak of the value of RPM for each car.\n",
        "\n",
        "\n",
        "24. City MPG:-        the score each car will get on average in city conditions, with stopping and starting at lower speeds.\n",
        "\n",
        "\n",
        "25. Highway MPG:-     the average a car will get while driving on an open stretch of road without stopping or starting,                               typically at a higher speed.\n",
        "\n",
        "\n",
        "26. Price:-           price of each car."
      ]
    },
    {
      "cell_type": "markdown",
      "metadata": {
        "id": "ZeD5fB-flyiA"
      },
      "source": [
        "# 3- The types of data."
      ]
    },
    {
      "cell_type": "markdown",
      "metadata": {
        "id": "9Fmpx3GklyiA"
      },
      "source": [
        "Data, which is information that has been translated into a form that is efficient for processing, has two classes, qualitative and quantitative which are further classified into four types: nominal, ordinal, discrete, and continuous. Below is a brief describing each type:-\n",
        "\n",
        "1- Qualitative/ Categorical data.\n",
        "\n",
        "   Its the kind of data that can't be measured or counted, that's why such types of data are categorized, not numbered. Below is    a brief description of each type of the categorical data:-\n",
        "   \n",
        "   1.1- Nominal Data.\n",
        "   \n",
        "   There is no meaningful order to these data; their values are distributed across several categories, such as nationality         (Indian, German, American) and gender (Male, Female).\n",
        "   \n",
        "   1.2- Ordinal Data.\n",
        "   \n",
        "  Data which is ordinal have a natural order in which it is arranged according to their position on the scale, such as             ranking of peoples in a competition (First, Second, Third, etc.) and education Level (Higher, Secondary, Primary).\n",
        "   \n",
        "\n",
        "2- Quantitative Data/ Numerical data.\n",
        "\n",
        "   Numbers can be used to express quantitative data, so that it can be counted. It answers the questions like, “how much,” “how    many,” and “how often.” Below is a brief description of each type of the numerical data:-\n",
        "   \n",
        "   2.1- Discrete Data.\n",
        "   \n",
        "   In discrete data, the values are those that fall under whole numbers or integers, such as total numbers of students             present in a class and numbers of employees in a company.\n",
        "   \n",
        "   2.2- Continuous Data.\n",
        "   \n",
        "  Fractional numbers are used to represent continuous data, thus, they can have any value within a given range, such as           prices and time.\n",
        "        \n",
        "\n",
        " References:-\n",
        " 1. https://www.techtarget.com/searchdatamanagement/definition/data\n",
        " 2. https://www.mygreatlearning.com/blog/types-of-data/"
      ]
    },
    {
      "cell_type": "markdown",
      "metadata": {
        "id": "Dna9NiselyiA"
      },
      "source": [
        "# 4- The difference between structured and unstructured data."
      ]
    },
    {
      "cell_type": "markdown",
      "metadata": {
        "id": "JFOCSX-flyiB"
      },
      "source": [
        "In the addition to the above division, data can also be divided according to its format to structured, unstructured and semi-structured data.\n",
        "\n",
        "Structured data refers to data that is in a standardized format, follows a consistent structure, complies with a data model, and can be easily accessed by humans and programs.On the other hand, unstructured data refers to data that doesn't follow a pre-determined data structure or schema, and so cannot be stored in a traditional relational database.\n",
        "\n",
        "Below are five reasons why structured and unstructured data differ:-\n",
        "\n",
        "1. Unlike unstructured data, structured data is well-defined and searchable. Structured data is organized, whereas unstructured    data is typically stored in its original form.\n",
        "\n",
        "\n",
        "2. Unstructured data is qualitative, while structured data is quantitative.\n",
        "\n",
        "\n",
        "3. Data warehouses are often used to store structured data, while data lakes are used for unstructured data.\n",
        "\n",
        "\n",
        "4. Unlike unstructured data, structured data is easy to search and analyze.\n",
        "\n",
        "\n",
        "5. Structured data exists in predefined formats, while unstructured data can be found in a variety of formats.\n",
        "\n",
        "\n",
        "\n",
        "References:-\n",
        "\n",
        "1- https://www.tibco.com/reference-center/what-is-structured-data\n",
        "\n",
        "2- https://www.mongodb.com/unstructured-data\n",
        "\n",
        "3- https://www.integrate.io/blog/structured-vs-unstructured-data-key-differences/"
      ]
    },
    {
      "cell_type": "markdown",
      "metadata": {
        "id": "6nHFMIbslyiB"
      },
      "source": [
        "# 5- The difference between a population and a sample."
      ]
    },
    {
      "cell_type": "markdown",
      "metadata": {
        "id": "Qp4IHDyzlyiB"
      },
      "source": [
        "In statistics, a population is defined as an entire group that conclusions are wanted to be made about. As collecting the data from the whole population is impossible, samples are the groups from which data is collected, it is usually smaller than the entire population. It's also worth mentioning that, people are not always referred to as a population when conducting research, a population group may include any object, event, organization, country, species, organism, etc.  wished to be studied.\n",
        "\n",
        "An example illustrating the difference between a population and a sample would be as follows:- a reserach would want to draw conclusions about undergraduate students in the Netherlands. In this case, the population is all undergraduate students in the Netherlands, while the sample that the data will actually be collected from might be 300 undergraduate students from three Dutch universities who volunteer for the research study conducted.\n",
        "\n",
        "Reference:- https://www.scribbr.com/methodology/population-vs-sample/#:~:text=A%20population%20is%20the%20entire,t%20always%20refer%20to%20people."
      ]
    },
    {
      "cell_type": "markdown",
      "metadata": {
        "id": "19pqB6vflyiB"
      },
      "source": [
        "# 6- The meaning and importance of sample data distributions."
      ]
    },
    {
      "cell_type": "markdown",
      "metadata": {
        "id": "dojMdb3QlyiB"
      },
      "source": [
        "In statistics, sampling distributions are statistics that determine the probability of a particular event based on the data of a small group within a larger population. Rather than analyzing the total population, sample groups can be selected and analyzed  repeatedly, this way representative results can be established of a relatively large population on the basis of small samples.\n",
        "\n",
        "The importance of sample data distributions is as follows: - inferences about large amounts of data can be made more easily when using a sampling distribution and knowing the sample distribution of a given sample contributes in selecting the appropriate statistical test and analysis used in the predective analysis of the data later on.\n",
        "\n",
        "Reference:- https://www.indeed.com/career-advice/career-development/what-is-sampling-distribution#:~:text=Sampling%20distribution%20is%20a%20statistic,of%20a%20comparatively%20larger%20population."
      ]
    },
    {
      "cell_type": "markdown",
      "metadata": {
        "id": "Qrzf5CCYlyiB"
      },
      "source": [
        "# 7- The meaning of Exploratory Data Analytics (EDA)."
      ]
    },
    {
      "cell_type": "markdown",
      "metadata": {
        "id": "12JnfjwtlyiB"
      },
      "source": [
        "Analyzing datasets by analyzing their main characteristics, often using visual methods, is Exploratory Data Analysis (EDA). Prior to modeling, EDA is used to see what the data can tell statisticians. It is an important process in descriptive analysis as it is not easy to determine the most important measures of a data set from a column of numbers or a whole spreadsheet, also most times the analysis of simple numbers may be tedious, boring, and overwhelming, In these cases, exploratory data analysis techniques have been devised to assist.\n",
        "\n",
        "Reference:- https://chartio.com/learn/data-analytics/what-is-exploratory-data-analysis/#:~:text=In%20data%20mining%2C%20Exploratory%20Data,us%20before%20the%20modeling%20task."
      ]
    },
    {
      "cell_type": "markdown",
      "metadata": {
        "id": "12GsP-LllyiB"
      },
      "source": [
        "# 8- Main Python libraries used in data analytics projects and what they do."
      ]
    },
    {
      "cell_type": "markdown",
      "metadata": {
        "id": "cheAofhtlyiB"
      },
      "source": [
        "The main python libraries used in data analytics projects mainly include but are not limited to the following:-\n",
        "\n",
        "1. NumPy:-\n",
        "   \n",
        "   Numpy stands for Numerical Python, a library that represents a  general-purpose array-processing package that provides high-    performance multidimensional objects called arrays and tools for working with them. It can be used for creating powerful N-      dimensional arrays (multi-dimensional), forming the base of other libraries, such as SciPy and scikit-learn and replacement      of MATLAB when used with SciPy and matplotlib libraries.\n",
        "   \n",
        "   \n",
        "2. Pandas:-\n",
        "   \n",
        "   Pandas stands for Python data analysis, and as it is clear from it's name it is a must in the data science life cycle. It is    used for General data wrangling and data cleaning, ETL (extract, transform, load) jobs for data transformation and data          storage, as it has excellent support for loading CSV files into its data frame format, used in a variety of academic and        commercial areas, including statistics, finance and neuroscience and has time-series-specific functionality, such as date        range generation, moving window, linear regression and date shifting.       \n",
        "   \n",
        "   \n",
        "3. Matplotlib:-\n",
        "   \n",
        "   Matplot library produces powerful yet beautiful visualizations. Its applications include correlation analysis of variables,      visualizing 95 percent confidence intervals of the models, outliers detection using  scatter or any other plots and              visualizing the distributions of data to gain instant insights.\n",
        "   \n",
        "   \n",
        "4. Scikit-learn:-\n",
        "   \n",
        "    Scikit-learn, is a machine learning library that provides a big amount of the machine learning algorithms needed in data         analytics projects. It is widely used for clustering, classification, regression, model selection and dimensionality             reduction.\n",
        "\n",
        "\n",
        "5. Seaborn:-\n",
        "\n",
        "   Seaborn is a Python machine learning tool for displaying statistical models such as heatmaps and other forms of                  visualizations that summarize data and depict overall distributions. It is based on Matplot library. Using seaborn library,      access can be gained to a large collection of visualizations (including complex ones like time series, joint plots, and          violin diagrams).\n",
        "\n",
        "\n",
        "6. Statsmodels:-\n",
        "   \n",
        "   Statsmodels is a Python library that provides classes and functions for estimating a variety of statistical models,              performing statistical tests, and exploring statistical data. For each estimator, a comprehensive collection of result          statistics is supplied.\n",
        "   \n",
        "   \n",
        "7. Scipy:-\n",
        "   \n",
        "   Scipy is a free and open-source Python library for data science that is widely used for high-level computations. It's            applications include multidimensional image operations, solving differential equations and the Fourier transform, can be used    in optimization algorithms and linear algebra.\n",
        "   \n",
        "\n",
        "\n",
        "References:-\n",
        "1. https://www.simplilearn.com/top-python-libraries-for-data-science-article\n",
        "2. https://www.dataquest.io/blog/15-python-libraries-for-data-science/\n",
        "3. https://www.statsmodels.org/stable/index.html"
      ]
    },
    {
      "cell_type": "markdown",
      "metadata": {
        "id": "qP15hux1lyiC"
      },
      "source": [
        "# 9- A clear explanation of  the difference between dataset instances and                    dataset features/attributes."
      ]
    },
    {
      "cell_type": "markdown",
      "metadata": {
        "id": "FF0iey6HlyiC"
      },
      "source": [
        "A single row of data is referred to as an instance, it's a domain-specific observation. On the other hand, a feature is a single column of data, it is also a part of an observation and is also known as a data instance attribute. So, simply speaking, instances are the of rows of data and features are the columns of data.\n",
        "\n",
        "Reference:- https://machinelearningmastery.com/data-learning-and-modeling/"
      ]
    },
    {
      "cell_type": "markdown",
      "metadata": {
        "id": "TK2XUQkmlyiC"
      },
      "source": [
        "# 10- Finding the estimates of location and estimates of variability for two features in the cars dataset."
      ]
    },
    {
      "cell_type": "markdown",
      "metadata": {
        "id": "AY1nYUlolyiC"
      },
      "source": [
        "The two features that were chosen are:- car length & car width."
      ]
    },
    {
      "cell_type": "markdown",
      "metadata": {
        "id": "KREwMaSUlyiC"
      },
      "source": [
        "Estimates of location:-"
      ]
    },
    {
      "cell_type": "code",
      "execution_count": null,
      "metadata": {
        "id": "iVTPKSS-lyiC",
        "outputId": "99a6a4d4-391e-45a8-e912-4865a142bbbd"
      },
      "outputs": [
        {
          "name": "stdout",
          "output_type": "stream",
          "text": [
            "\n",
            "The cars' mean length is:- 174.04926829268305\n",
            "\n",
            "The cars' trimmed mean length is:- 173.7860606060606\n",
            "\n",
            "The cars' median length is:- 173.2\n",
            "\n"
          ]
        }
      ],
      "source": [
        "#Finding the car length mean - the sum of all values divided by the number of values- using pandas\n",
        "r1 = df['carlength'].mean()\n",
        "print()\n",
        "print(\"The cars' mean length is:- \" + str(r1))\n",
        "print()\n",
        "\n",
        "#Finding the car length  trimmed mean to eliminate the influence of extreme values using 10% up and down\n",
        "#using the scipy library\n",
        "from scipy import stats\n",
        "r2 = stats.trim_mean(df['carlength'], 0.1)\n",
        "print(\"The cars' trimmed mean length is:- \" + str(r2))\n",
        "print()\n",
        "\n",
        "#Finding the car length median -the middle number on a sorted list of the data-\n",
        "r3 = df['carlength'].median()\n",
        "print(\"The cars' median length is:- \" + str(r3))\n",
        "print()"
      ]
    },
    {
      "cell_type": "code",
      "execution_count": null,
      "metadata": {
        "id": "gXwSFHvYlyiC",
        "outputId": "3b2c2013-de08-4cdb-a7bd-7cbbdc1e4cc8"
      },
      "outputs": [
        {
          "name": "stdout",
          "output_type": "stream",
          "text": [
            "\n",
            "The cars' mean width is:- 65.90780487804875\n",
            "\n",
            "The cars' trimmed mean width is:- 65.65575757575756\n",
            "\n",
            "The cars' median width is:- 65.5\n",
            "\n"
          ]
        }
      ],
      "source": [
        "#Finding the car width mean - the sum of all values divided by the number of values- using pandas\n",
        "r1 = df['carwidth'].mean()\n",
        "print()\n",
        "print(\"The cars' mean width is:- \" + str(r1))\n",
        "print()\n",
        "\n",
        "#Finding the car width  trimmed mean to eliminate the influence of extreme values using 10% up and down\n",
        "#using the scipy library\n",
        "from scipy import stats\n",
        "r2 = stats.trim_mean(df['carwidth'], 0.1)\n",
        "print(\"The cars' trimmed mean width is:- \" + str(r2))\n",
        "print()\n",
        "\n",
        "#Finding the car width median -the middle number on a sorted list of the data-\n",
        "r3 = df['carwidth'].median()\n",
        "print(\"The cars' median width is:- \" + str(r3))\n",
        "print()"
      ]
    },
    {
      "cell_type": "markdown",
      "metadata": {
        "id": "EOLk_mIllyiD"
      },
      "source": [
        "Estimates of variability:-"
      ]
    },
    {
      "cell_type": "code",
      "execution_count": null,
      "metadata": {
        "id": "BCqBDlHilyiD",
        "outputId": "558ee0fa-3506-4023-c420-1ef771907ddb"
      },
      "outputs": [
        {
          "name": "stdout",
          "output_type": "stream",
          "text": [
            "\n",
            "Car length variance: 152.20868818747022\n",
            "\n",
            "Car length standard deviation: 12.337288526555186\n"
          ]
        }
      ],
      "source": [
        "#Finding the car length variance and standard deviation -how spread out the scores are in a distribution-\n",
        "print()\n",
        "print('Car length variance:', df['carlength'].var())\n",
        "print()\n",
        "print('Car length standard deviation:', df['carlength'].std())"
      ]
    },
    {
      "cell_type": "code",
      "execution_count": null,
      "metadata": {
        "id": "izv5HqvKlyiD",
        "outputId": "2c71995b-c5d6-44e9-8071-f04f89510971"
      },
      "outputs": [
        {
          "name": "stdout",
          "output_type": "stream",
          "text": [
            "\n",
            "Car width variance: 4.601899569583927\n",
            "\n",
            "Car width standard deviation: 2.1452038526871817\n"
          ]
        }
      ],
      "source": [
        "#Finding the car width variance and standard deviation -how spread out the scores are in a distribution-\n",
        "print()\n",
        "print('Car width variance:', df['carwidth'].var())\n",
        "print()\n",
        "print('Car width standard deviation:', df['carwidth'].std())"
      ]
    },
    {
      "cell_type": "markdown",
      "metadata": {
        "id": "K13dc8w2lyiD"
      },
      "source": [
        "# 11- Defining what a histogram is and plotting a histogram for two of the data features."
      ]
    },
    {
      "cell_type": "markdown",
      "metadata": {
        "id": "aSLuZAS_lyiD"
      },
      "source": [
        "A histogram is simply a graph showing frequency distributions, the number of observations within each given interval.\n",
        "\n",
        "Reference:- https://www.w3schools.com/python/matplotlib_histograms.asp"
      ]
    },
    {
      "cell_type": "markdown",
      "metadata": {
        "id": "0jFhvU8hlyiD"
      },
      "source": [
        "The two features that were chosen are:- car length & car width."
      ]
    },
    {
      "cell_type": "code",
      "execution_count": null,
      "metadata": {
        "id": "fSCa33ZrlyiD",
        "outputId": "1e64d5aa-b03e-4f69-c3d8-84758460a53e"
      },
      "outputs": [
        {
          "data": {
            "image/png": "[encoded data removed]",
            "text/plain": [
              "<Figure size 432x288 with 1 Axes>"
            ]
          },
          "metadata": {
            "needs_background": "light"
          },
          "output_type": "display_data"
        }
      ],
      "source": [
        "import matplotlib.pyplot as plt\n",
        "#Plotting a histogram for cars' length with 10 bins\n",
        "p = df['carlength'].hist(bins=10)\n",
        "p.set_xlabel(\"Car length\")\n",
        "p.set_ylabel(\"Frequency/Count\")\n",
        "plt.show()"
      ]
    },
    {
      "cell_type": "code",
      "execution_count": null,
      "metadata": {
        "id": "FIDhCuw2lyiD",
        "outputId": "8bd60c32-79cf-4285-911b-79e2f971e16b"
      },
      "outputs": [
        {
          "data": {
            "image/png": "[encoded data removed]",
            "text/plain": [
              "<Figure size 432x288 with 1 Axes>"
            ]
          },
          "metadata": {
            "needs_background": "light"
          },
          "output_type": "display_data"
        }
      ],
      "source": [
        "#Plotting a histogram for cars' width with 10 bins\n",
        "p = df['carwidth'].hist(bins=10)\n",
        "p.set_xlabel(\"Car width\")\n",
        "p.set_ylabel(\"Frequency/Count\")\n",
        "plt.show()"
      ]
    },
    {
      "cell_type": "markdown",
      "metadata": {
        "id": "u3kYhq07lyiE"
      },
      "source": [
        "As clear from above, the two distributions of cars' length and width are approximately normal distributions."
      ]
    },
    {
      "cell_type": "markdown",
      "metadata": {
        "id": "DoR5YvVElyiE"
      },
      "source": [
        "# 12-  Plotting a scatter plot to examine any relationships between two features, reporting if any trend exists and quantifying such trends or relationships.\n"
      ]
    },
    {
      "cell_type": "markdown",
      "metadata": {
        "id": "mG_AC1o1lyiE"
      },
      "source": [
        "Logically, I expect having a relationship between cars' horsepower and price, in order to examine this relatioship, I'll use the scatterplot."
      ]
    },
    {
      "cell_type": "code",
      "execution_count": null,
      "metadata": {
        "id": "02A3aKu_lyiE",
        "outputId": "db3ba800-3abc-4750-f143-382f82ab579a"
      },
      "outputs": [
        {
          "data": {
            "image/png": "[encoded data removed]",
            "text/plain": [
              "<Figure size 432x288 with 1 Axes>"
            ]
          },
          "metadata": {
            "needs_background": "light"
          },
          "output_type": "display_data"
        }
      ],
      "source": [
        "import seaborn as sns\n",
        "#Plotting a scatter plot examining cars' horsepower and price relationship\n",
        "sns.scatterplot(x=\"horsepower\", y=\"price\", data=df)\n",
        "plt.show()"
      ]
    },
    {
      "cell_type": "markdown",
      "metadata": {
        "id": "_Dg2AZZClyiE"
      },
      "source": [
        "As its clear from the scatterplot, there is some kind of linearity in the relatioship between the cars' horse power and price, in order to quantify this relationship correlation analysis will be used, which is an important method that examines the relationship between two variables as follows:-"
      ]
    },
    {
      "cell_type": "code",
      "execution_count": null,
      "metadata": {
        "id": "Bx1p6Yg9lyiE",
        "outputId": "30ca19e2-6897-47ec-a03c-033f4484c272"
      },
      "outputs": [
        {
          "data": {
            "text/plain": [
              "(0.8081388225362218, 1.483436573293965e-48)"
            ]
          },
          "execution_count": 10,
          "metadata": {},
          "output_type": "execute_result"
        }
      ],
      "source": [
        "stats.pearsonr(df['horsepower'], df['price'])"
      ]
    },
    {
      "cell_type": "markdown",
      "metadata": {
        "id": "HATGIGfRlyiF"
      },
      "source": [
        "The above result implies that the corelation coeffeccient for the relationship between cars' horse power and price is approximately 0.8 which represents a strong relationship between the two features -as correlation values range from -1 to +1-, the second value is used to measure the statistical significance of this relationship, the smallest this value is the more the result is statistically significant, as its clear above, the number is so small.\n",
        "\n",
        "Based on the above, I can conclude that the cars' horsepower and price are positively correlated."
      ]
    },
    {
      "cell_type": "markdown",
      "metadata": {
        "id": "tEgAhpt9lyiF"
      },
      "source": [
        "# 13- Explaining clearly what is meant by regression and how it can be used in the dataset."
      ]
    },
    {
      "cell_type": "markdown",
      "metadata": {
        "id": "MxZ6b6B7lyiF"
      },
      "source": [
        "Regression is a statistical method that enables data scientests to analyze and interpret relationships between two or more variables of interest. When using regression analysis, questions like what factors are important and what factors can be ignored and how two factors influence each other can be answered.Two main terms are associated with regression:- the dependent variable which is the variable that is aimed to be understood or predicted and the independent variables which include any factor that affects the analysis of target variable.\n",
        "\n",
        "\n",
        "Referring to the cars dataset, we know that the horsepower and price are positively correlated, but we don't know the exact relationship in numbers (linear equation). In this case, simple linear regression can be used to illustrate the equation that connects the horsepower to the price of cars and to predict the price of a given car's horsepower through the linear equation that regression will produce as an outcome (all predictions to a degree of excellence) as below.\n",
        "\n",
        "\n",
        "Reference:- https://www.mygreatlearning.com/blog/what-is-regression/"
      ]
    },
    {
      "cell_type": "code",
      "execution_count": null,
      "metadata": {
        "id": "YJ4jRPKtlyiF",
        "outputId": "6500eb3b-fa73-4b9b-8628-518838ab768c"
      },
      "outputs": [
        {
          "name": "stderr",
          "output_type": "stream",
          "text": [
            "C:\\Users\\ThinkPad\\anaconda3\\lib\\site-packages\\statsmodels\\tsa\\tsatools.py:142: FutureWarning: In a future version of pandas all arguments of concat except for the argument 'objs' will be keyword-only.\n",
            "  x = pd.concat(x[::order], 1)\n"
          ]
        },
        {
          "data": {
            "text/html": [
              "<table class=\"simpletable\">\n",
              "<caption>OLS Regression Results</caption>\n",
              "<tr>\n",
              "  <th>Dep. Variable:</th>          <td>price</td>      <th>  R-squared:         </th> <td>   0.653</td>\n",
              "</tr>\n",
              "<tr>\n",
              "  <th>Model:</th>                   <td>OLS</td>       <th>  Adj. R-squared:    </th> <td>   0.651</td>\n",
              "</tr>\n",
              "<tr>\n",
              "  <th>Method:</th>             <td>Least Squares</td>  <th>  F-statistic:       </th> <td>   382.2</td>\n",
              "</tr>\n",
              "<tr>\n",
              "  <th>Date:</th>             <td>Mon, 06 Jun 2022</td> <th>  Prob (F-statistic):</th> <td>1.48e-48</td>\n",
              "</tr>\n",
              "<tr>\n",
              "  <th>Time:</th>                 <td>14:05:27</td>     <th>  Log-Likelihood:    </th> <td> -2024.0</td>\n",
              "</tr>\n",
              "<tr>\n",
              "  <th>No. Observations:</th>      <td>   205</td>      <th>  AIC:               </th> <td>   4052.</td>\n",
              "</tr>\n",
              "<tr>\n",
              "  <th>Df Residuals:</th>          <td>   203</td>      <th>  BIC:               </th> <td>   4059.</td>\n",
              "</tr>\n",
              "<tr>\n",
              "  <th>Df Model:</th>              <td>     1</td>      <th>                     </th>     <td> </td>   \n",
              "</tr>\n",
              "<tr>\n",
              "  <th>Covariance Type:</th>      <td>nonrobust</td>    <th>                     </th>     <td> </td>   \n",
              "</tr>\n",
              "</table>\n",
              "<table class=\"simpletable\">\n",
              "<tr>\n",
              "       <td></td>         <th>coef</th>     <th>std err</th>      <th>t</th>      <th>P>|t|</th>  <th>[0.025</th>    <th>0.975]</th>  \n",
              "</tr>\n",
              "<tr>\n",
              "  <th>const</th>      <td>-3721.7615</td> <td>  929.849</td> <td>   -4.003</td> <td> 0.000</td> <td>-5555.163</td> <td>-1888.360</td>\n",
              "</tr>\n",
              "<tr>\n",
              "  <th>horsepower</th> <td>  163.2631</td> <td>    8.351</td> <td>   19.549</td> <td> 0.000</td> <td>  146.796</td> <td>  179.730</td>\n",
              "</tr>\n",
              "</table>\n",
              "<table class=\"simpletable\">\n",
              "<tr>\n",
              "  <th>Omnibus:</th>       <td>47.741</td> <th>  Durbin-Watson:     </th> <td>   0.792</td>\n",
              "</tr>\n",
              "<tr>\n",
              "  <th>Prob(Omnibus):</th> <td> 0.000</td> <th>  Jarque-Bera (JB):  </th> <td>  91.702</td>\n",
              "</tr>\n",
              "<tr>\n",
              "  <th>Skew:</th>          <td> 1.141</td> <th>  Prob(JB):          </th> <td>1.22e-20</td>\n",
              "</tr>\n",
              "<tr>\n",
              "  <th>Kurtosis:</th>      <td> 5.352</td> <th>  Cond. No.          </th> <td>    314.</td>\n",
              "</tr>\n",
              "</table><br/><br/>Notes:<br/>[1] Standard Errors assume that the covariance matrix of the errors is correctly specified."
            ],
            "text/plain": [
              "<class 'statsmodels.iolib.summary.Summary'>\n",
              "\"\"\"\n",
              "                            OLS Regression Results                            \n",
              "==============================================================================\n",
              "Dep. Variable:                  price   R-squared:                       0.653\n",
              "Model:                            OLS   Adj. R-squared:                  0.651\n",
              "Method:                 Least Squares   F-statistic:                     382.2\n",
              "Date:                Mon, 06 Jun 2022   Prob (F-statistic):           1.48e-48\n",
              "Time:                        14:05:27   Log-Likelihood:                -2024.0\n",
              "No. Observations:                 205   AIC:                             4052.\n",
              "Df Residuals:                     203   BIC:                             4059.\n",
              "Df Model:                           1                                         \n",
              "Covariance Type:            nonrobust                                         \n",
              "==============================================================================\n",
              "                 coef    std err          t      P>|t|      [0.025      0.975]\n",
              "------------------------------------------------------------------------------\n",
              "const      -3721.7615    929.849     -4.003      0.000   -5555.163   -1888.360\n",
              "horsepower   163.2631      8.351     19.549      0.000     146.796     179.730\n",
              "==============================================================================\n",
              "Omnibus:                       47.741   Durbin-Watson:                   0.792\n",
              "Prob(Omnibus):                  0.000   Jarque-Bera (JB):               91.702\n",
              "Skew:                           1.141   Prob(JB):                     1.22e-20\n",
              "Kurtosis:                       5.352   Cond. No.                         314.\n",
              "==============================================================================\n",
              "\n",
              "Notes:\n",
              "[1] Standard Errors assume that the covariance matrix of the errors is correctly specified.\n",
              "\"\"\""
            ]
          },
          "execution_count": 29,
          "metadata": {},
          "output_type": "execute_result"
        }
      ],
      "source": [
        "# Finding regression using the statsmodel\n",
        "\n",
        "X = df['horsepower']\n",
        "Y = df['price']\n",
        "\n",
        "#using statsmodels\n",
        "import statsmodels.api as sm\n",
        "X2 = sm.add_constant(X)\n",
        "model = sm.OLS(Y, X2 )\n",
        "results = model.fit()\n",
        "results.summary()"
      ]
    },
    {
      "cell_type": "markdown",
      "metadata": {
        "id": "OpKiTt0GlyiF"
      },
      "source": [
        "The above result shows that: -\n",
        "\n",
        "1. R squared value is approximately 0.6, which means that the horse power of cars explain 60 % of the variation in their prices, which is above 50 %, which makes a good explanation.\n",
        "\n",
        "\n",
        "2. The independent value (horsepower) coeffecient's P-value is approximately 0 (too small) which is less than 0.05, which makes the relationship between the dependent value (price) and independent value (horsepower) statistically significant.\n",
        "\n",
        "\n",
        "3. The linear regression equation is: - (price = -3721.7615 + 163.2631 * horsepower), and can be used to predict cars' prices when given there horse powers and vice versa."
      ]
    },
    {
      "cell_type": "markdown",
      "metadata": {
        "id": "ZJbXiWvclyiF"
      },
      "source": [
        "# 14-  The difference between linear regression, multiple linear regression and logistic regression."
      ]
    },
    {
      "cell_type": "markdown",
      "metadata": {
        "id": "T3swt-RLlyiF"
      },
      "source": [
        "The differences between the three types of regression is as follows:-\n",
        "\n",
        "\n",
        "1. Simple linear regression.\n",
        "\n",
        "   The relationship between two quantitative variables can be estimated using simple linear regression.Simple linear regression    can be used to determine the strength of the relationship between two variables (for example the relationship between            rainfall and soil erosion) and the value of the dependent variable at a given value of the independent variable (for example,    the amount of soil erosion at a certain level of rainfall).\n",
        "   \n",
        "   \n",
        "\n",
        "2. Multiple linear regression.\n",
        "   \n",
        "   Using multiple explanatory variables, multiple linear regression (MLR) is a statistical technique used to predict the            outcome of a response variable.The multiple regression method is an extension of the linear regression method which uses        just one explanatory variable.\n",
        "\n",
        "\n",
        "\n",
        "3. Logistic regression.\n",
        "\n",
        "   Logistic regression is a statistical method for predicting binary outcomes, such as yes or no, based on previously observed      data. By analyzing the relationship between one or more independent variables, a logistic regression model can predict a        dependent data variable. For example using the logistic regression whether a candidate will win an election or lose and          whether a high school student will be accepted to a particular college can be determined. As the outcomes are binary,            straightforward decisions between two alternatives will be detected.\n",
        "\n",
        "\n",
        "\n",
        "The main difference between linear regression and logistic regression is that linear regression is used to predict the continuous dependent variable using one independent variable (simple linear regression) or multiple independent variables (multiple linear regression) while the logistic regression is used to predict the categorical dependent variable using a given set of independent variables. Also, it's worth mentioning that, in linear regression, it is required that the relationship between dependent variable and independent variable/s is linear, while in logistic regression, it is not required to have the linear relationship between the dependent and independent variable/s.\n",
        "\n",
        "\n",
        "\n",
        "References:-\n",
        "\n",
        "1. https://www.scribbr.com/statistics/simple-linear-regression/\n",
        "\n",
        "2. https://www.investopedia.com/terms/m/mlr.asp#:~:text=Key%20Takeaways-,Multiple%20linear%20regression%20(MLR)%2C%20also%20known%20simply%20as%20multiple,uses%20just%20one%20explanatory%20variable.\n",
        "\n",
        "3. https://www.techtarget.com/searchbusinessanalytics/definition/logistic-regression\n",
        "\n",
        "4. https://www.javatpoint.com/linear-regression-vs-logistic-regression-in-machine-learning#:~:text=Linear%20regression%20is%20used%20to,used%20for%20solving%20Regression%20problem."
      ]
    },
    {
      "cell_type": "markdown",
      "metadata": {
        "id": "3TcXIGvQlyiF"
      },
      "source": [
        "# 15- T-test VS ANOVA."
      ]
    },
    {
      "cell_type": "markdown",
      "metadata": {
        "id": "flAc-_BQlyiG"
      },
      "source": [
        "Both the student's t test (t test) and analysis of variance (ANOVA) are statistical methods used in the testing of hypothesis for comparison of means between the groups. They differ as when two populations are available to study if they are statistically different, a t-test is used, whereas an ANOVA test determines whether three or more populations are statistically different.\n",
        "\n",
        "References:-\n",
        "1. https://www.ncbi.nlm.nih.gov/pmc/articles/PMC6813708/#:~:text=The%20Student's%20t%20test%20is,mean%20difference%20was%20statistically%20significant.\n",
        "\n",
        "2. https://app.wordtune.com/editor"
      ]
    },
    {
      "cell_type": "markdown",
      "metadata": {
        "id": "6uEgEwX4lyiG"
      },
      "source": [
        "# 16-  Testing whether there is any significant difference in car curbweight between two car bodies: sedan and wagon and supporting my argument with the appropriate plot."
      ]
    },
    {
      "cell_type": "markdown",
      "metadata": {
        "id": "jhG9_rLxlyiG"
      },
      "source": [
        "The null hypothesis is considered to be that there is no significant difference in curbweight between sedan and wagon car bodies (H0). The alternative hypothesis is considered to be that there is a significant difference in curbweight between sedan and wagon car bodies (H1). Below are steps for testing these hypothesis to either reject or fail to reject the null hypothesis."
      ]
    },
    {
      "cell_type": "code",
      "execution_count": null,
      "metadata": {
        "id": "tDrc6QC6lyiG"
      },
      "outputs": [],
      "source": [
        "#Creating two groups of data based on what we are comparing\n",
        "sedan = df[(df['carbody'] == 'sedan')]\n",
        "wagon = df[(df['carbody'] == 'wagon')]"
      ]
    },
    {
      "cell_type": "code",
      "execution_count": null,
      "metadata": {
        "id": "zzt1Gp7dlyiG",
        "outputId": "1c74ba4f-571c-4ba5-9e8c-c7bcd378f5eb"
      },
      "outputs": [
        {
          "data": {
            "image/png": "[encoded data removed]",
            "text/plain": [
              "<Figure size 360x360 with 1 Axes>"
            ]
          },
          "metadata": {
            "needs_background": "light"
          },
          "output_type": "display_data"
        }
      ],
      "source": [
        "#Histogram and density plot for group1\n",
        "sns.displot(data = sedan, x = \"curbweight\", kde=True)\n",
        "plt.show()"
      ]
    },
    {
      "cell_type": "code",
      "execution_count": null,
      "metadata": {
        "id": "mDUi_Xm5lyiG",
        "outputId": "6e1ec7df-c21d-46b2-d8df-08d9742d7c80"
      },
      "outputs": [
        {
          "data": {
            "image/png": "[encoded data removed]",
            "text/plain": [
              "<Figure size 360x360 with 1 Axes>"
            ]
          },
          "metadata": {
            "needs_background": "light"
          },
          "output_type": "display_data"
        }
      ],
      "source": [
        "#Histogram and density plot for group2\n",
        "sns.displot(data = wagon, x = \"curbweight\", kde=True)\n",
        "plt.show()"
      ]
    },
    {
      "cell_type": "markdown",
      "metadata": {
        "id": "huAQ9OHJlyiG"
      },
      "source": [
        "As the detection of whether the distributions are normal is difficult by eye in this case, a numeric test will be done later below."
      ]
    },
    {
      "cell_type": "code",
      "execution_count": null,
      "metadata": {
        "id": "b_KMOnCTlyiG",
        "outputId": "e04dd102-9a4f-4f35-e06a-810f7214b00f"
      },
      "outputs": [
        {
          "data": {
            "text/plain": [
              "(121, 26)"
            ]
          },
          "execution_count": 14,
          "metadata": {},
          "output_type": "execute_result"
        }
      ],
      "source": [
        "#Filtering the dataframe\n",
        "options = ['sedan', 'wagon']\n",
        "filtDf = df[df['carbody'].isin(options)]\n",
        "filtDf.shape"
      ]
    },
    {
      "cell_type": "code",
      "execution_count": null,
      "metadata": {
        "id": "Bn4PYtP9lyiH",
        "outputId": "281e32a8-0070-4816-82e0-d889a51e07ec"
      },
      "outputs": [
        {
          "data": {
            "image/png": "[encoded data removed]",
            "text/plain": [
              "<Figure size 432x288 with 1 Axes>"
            ]
          },
          "metadata": {
            "needs_background": "light"
          },
          "output_type": "display_data"
        }
      ],
      "source": [
        "#Boxplot to visually compare the factor between the two groups\n",
        "sns.boxplot(x=\"curbweight\", y=\"carbody\", data=filtDf)\n",
        "sns.stripplot(x=\"curbweight\", y='carbody', marker=\"o\", alpha=0.5  , color=\"black\", data=filtDf)\n",
        "plt.show()"
      ]
    },
    {
      "cell_type": "markdown",
      "metadata": {
        "id": "pVHIexW8lyiH"
      },
      "source": [
        "The visual shows that the mean of wagon cars' curbweight is larger than sedans', but we still need to support whether there is a difference between the two car body's curbweights statistically."
      ]
    },
    {
      "cell_type": "code",
      "execution_count": null,
      "metadata": {
        "id": "kTprnh9VlyiH",
        "outputId": "29edb11b-06fb-458f-804b-92841803a423"
      },
      "outputs": [
        {
          "data": {
            "image/png": "[encoded data removed]",
            "text/plain": [
              "<Figure size 429x360 with 1 Axes>"
            ]
          },
          "metadata": {
            "needs_background": "light"
          },
          "output_type": "display_data"
        }
      ],
      "source": [
        "#Density plot to visually compare the factor between the two groups\n",
        "sns.displot(data=filtDf, x=\"curbweight\", hue=\"carbody\", kind=\"kde\")\n",
        "plt.show()"
      ]
    },
    {
      "cell_type": "markdown",
      "metadata": {
        "id": "4oGcrfbElyiH"
      },
      "source": [
        "Let's check the normality using the qq-plot."
      ]
    },
    {
      "cell_type": "code",
      "execution_count": null,
      "metadata": {
        "id": "1eTo3u08lyiH",
        "outputId": "3b93a9b9-f47e-405d-cfc8-6c0339e2ab32"
      },
      "outputs": [
        {
          "name": "stderr",
          "output_type": "stream",
          "text": [
            "C:\\Users\\ThinkPad\\anaconda3\\lib\\site-packages\\statsmodels\\tsa\\base\\tsa_model.py:7: FutureWarning: pandas.Int64Index is deprecated and will be removed from pandas in a future version. Use pandas.Index with the appropriate dtype instead.\n",
            "  from pandas import (to_datetime, Int64Index, DatetimeIndex, Period,\n",
            "C:\\Users\\ThinkPad\\anaconda3\\lib\\site-packages\\statsmodels\\tsa\\base\\tsa_model.py:7: FutureWarning: pandas.Float64Index is deprecated and will be removed from pandas in a future version. Use pandas.Index with the appropriate dtype instead.\n",
            "  from pandas import (to_datetime, Int64Index, DatetimeIndex, Period,\n"
          ]
        },
        {
          "data": {
            "image/png": "[encoded data removed]",
            "text/plain": [
              "<Figure size 432x288 with 1 Axes>"
            ]
          },
          "metadata": {
            "needs_background": "light"
          },
          "output_type": "display_data"
        },
        {
          "data": {
            "image/png": "[encoded data removed]",
            "text/plain": [
              "<Figure size 432x288 with 1 Axes>"
            ]
          },
          "metadata": {
            "needs_background": "light"
          },
          "output_type": "display_data"
        }
      ],
      "source": [
        "#Checking for normality using Q-Q plot for factor distribution in both groups\n",
        "import statsmodels.api as sm\n",
        "sm.qqplot(sedan['curbweight'], line='q')\n",
        "sm.qqplot(wagon['curbweight'], line='q')\n",
        "plt.show()"
      ]
    },
    {
      "cell_type": "markdown",
      "metadata": {
        "id": "UMB6HVSKlyiH"
      },
      "source": [
        "As its clear, most of the data points are close to the qq-line, but let's be more sure using numbers."
      ]
    },
    {
      "cell_type": "code",
      "execution_count": null,
      "metadata": {
        "id": "kPrX3UrUlyiH",
        "outputId": "4b1fb4e5-16dc-4666-8259-d8aa8561ad56"
      },
      "outputs": [
        {
          "name": "stdout",
          "output_type": "stream",
          "text": [
            "ShapiroResult(statistic=0.9243727922439575, pvalue=3.462399399722926e-05)\n",
            "ShapiroResult(statistic=0.9478416442871094, pvalue=0.22404570877552032)\n"
          ]
        }
      ],
      "source": [
        "#Checking for normality using Shapiro-Wilk test for normality\n",
        "# (p-value must be more than 0.05 to be considered normal)\n",
        "#( p-value > alpha (e.g.0.05) means it is normal)\n",
        "print( stats.shapiro(sedan['curbweight']) )\n",
        "print( stats.shapiro(wagon['curbweight']) )"
      ]
    },
    {
      "cell_type": "markdown",
      "metadata": {
        "id": "6bZsmAlClyiH"
      },
      "source": [
        "The p-value for sedan data is less than 0.05 which implies that its not normally distributed, while the p-value for wagon data is larger than 0.05 which implies that its normally distributed."
      ]
    },
    {
      "cell_type": "code",
      "execution_count": null,
      "metadata": {
        "id": "sx1YW88BlyiH",
        "outputId": "12fa8137-c024-4b9f-ca53-c25fd1094350"
      },
      "outputs": [
        {
          "data": {
            "text/plain": [
              "LeveneResult(statistic=0.0026913929809839754, pvalue=0.9587123811474386)"
            ]
          },
          "execution_count": 19,
          "metadata": {},
          "output_type": "execute_result"
        }
      ],
      "source": [
        "#Checking for homogeneity\n",
        "#a small p-value suggests that the populations do not have equal variances\n",
        "# (p-value must be more than 0.05 to be considered similar variances)\n",
        "stats.levene(sedan['curbweight'], wagon['curbweight'])"
      ]
    },
    {
      "cell_type": "markdown",
      "metadata": {
        "id": "a4vp0ZRHlyiI"
      },
      "source": [
        "The result above shows that the two groups of data have equal variances as the p-value is larger than 0.05."
      ]
    },
    {
      "cell_type": "code",
      "execution_count": null,
      "metadata": {
        "id": "fRqGTvBglyiI",
        "outputId": "59ec2fac-74f1-4f95-8dfd-af800897d153"
      },
      "outputs": [
        {
          "data": {
            "text/plain": [
              "MannwhitneyuResult(statistic=907.0, pvalue=0.06112369316293515)"
            ]
          },
          "execution_count": 20,
          "metadata": {},
          "output_type": "execute_result"
        }
      ],
      "source": [
        "#For non-normal distributions (non paremetric test for 2 individual samples, two-sided test according to the hypothesis)\n",
        "testVal = stats.mannwhitneyu(sedan['curbweight'], wagon['curbweight'], alternative = 'two-sided')\n",
        "testVal"
      ]
    },
    {
      "cell_type": "markdown",
      "metadata": {
        "id": "Jn1Hg_znlyiI"
      },
      "source": [
        "As the p-value is larger than 0.05, we fail to reject the null hypothesis, and we can conclude that there is no significant difference in curbweight between sedan and wagon car bodies."
      ]
    },
    {
      "cell_type": "code",
      "execution_count": null,
      "metadata": {
        "id": "8p4MFoiRlyiI",
        "outputId": "9db85d40-f1b0-49f3-8b04-baa132bd546c"
      },
      "outputs": [
        {
          "name": "stdout",
          "output_type": "stream",
          "text": [
            "0.06112369316293515\n"
          ]
        }
      ],
      "source": [
        "#Getting the p-value and rounding it\n",
        "pVal = testVal.pvalue\n",
        "print(pVal)"
      ]
    },
    {
      "cell_type": "code",
      "execution_count": null,
      "metadata": {
        "id": "SiQJGRuVlyiI",
        "outputId": "606fe054-9acc-4257-e88d-cf7b4cf9924d"
      },
      "outputs": [
        {
          "data": {
            "image/png": "[encoded data removed]",
            "text/plain": [
              "<Figure size 432x288 with 1 Axes>"
            ]
          },
          "metadata": {
            "needs_background": "light"
          },
          "output_type": "display_data"
        }
      ],
      "source": [
        "#Adding p-value to boxplot\n",
        "pltTitle = 'p-value = ' + str(pVal)\n",
        "boxPlot = sns.boxplot(y=\"curbweight\", x=\"carbody\", data=filtDf)\n",
        "boxPlot = sns.stripplot(x=\"carbody\", y='curbweight', marker=\"o\", alpha=0.5  , color=\"black\", data=filtDf)\n",
        "boxPlot.set_title(pltTitle)\n",
        "plt.show()"
      ]
    },
    {
      "cell_type": "markdown",
      "metadata": {
        "id": "86OwSXTQlyiI"
      },
      "source": [
        "As a result, although the plot is showing a slight difference in curbweight between sedan and wagon car bodies, this difference is not statistically significant."
      ]
    },
    {
      "cell_type": "markdown",
      "metadata": {
        "id": "dUni42ialyiI"
      },
      "source": [
        "# 17- Testing if a specific feature follows a normal distribution or not."
      ]
    },
    {
      "cell_type": "markdown",
      "metadata": {
        "id": "L60odlPKlyiI"
      },
      "source": [
        "Other than viasualizing the distributions of features to test if their distribution is similar to the normal distribution shape or not, there are two well-known statistical ways to check whether a feature's distribution is normal:-\n",
        "\n",
        "1. QQ-plots.\n",
        "   \n",
        "   The points in a Q-Q plot will lie on a diagonal line if the data is normally distributed, a normal distribution is less          likely to be followed when points in the plot deviate significantly from a straight diagonal line.\n",
        "\n",
        "\n",
        "2. Shapiro-Wilk test for normality.\n",
        "\n",
        "   Statistically, Shapiro-Wilk tests determine if a continuous variable follows a normal distribution, specifically, the null      hypothesis (H0) states that the variable has a normal distribution, and the alternative hypothesis (H1) states that it does      not have a normal distribution. The test rejects the hypothesis of normality (H0) when the p-value is less than or equal to      0.05.\n",
        "   \n",
        "References:-\n",
        "\n",
        "1. https://www.statology.org/q-q-plot-normality/\n",
        "\n",
        "2. https://quantifyinghealth.com/report-shapiro-wilk-test/\n",
        "\n",
        "3. https://variation.com/wp-content/distribution_analyzer_help/hs141.htm#:~:text=The%20Shapiro%2DWilks%20test%20for,than%20or%20equal%20to%200.05."
      ]
    },
    {
      "cell_type": "markdown",
      "metadata": {
        "id": "PP6ljBWylyiJ"
      },
      "source": [
        "# 18- The difference between a parametric and a non-parametric test."
      ]
    },
    {
      "cell_type": "markdown",
      "metadata": {
        "id": "jMYzwLt2lyiJ"
      },
      "source": [
        "A parametric statistic is based on assumptions about the distribution of the population sampled. Unlike parametric statistics, nonparametric statistics are not based on assumptions, that is, the data can be gathered from any sample. Student's t-tests, for example, are common parametric statistics. Nonparametric statistics include the Mann-Whitney-Wilcoxon (MWW) test and the Wilcoxon test.\n",
        "\n",
        "Reference:- https://www.ibm.com/docs/en/db2woc?topic=procedures-statistics-parametric-nonparametric"
      ]
    },
    {
      "cell_type": "markdown",
      "metadata": {
        "id": "dCw_lEYelyiJ"
      },
      "source": [
        "# 19- Gradient descent, where and when it is used, examples on using it."
      ]
    },
    {
      "cell_type": "markdown",
      "metadata": {
        "id": "QjP-bzIFlyiJ"
      },
      "source": [
        "\n",
        "1. Definition.\n",
        "\n",
        "   A gradient descent algorithm minimizes the cost function by determining which parameters of a function reduce that cost.\n",
        "  \n",
        "  \n",
        "2. Where it is used.\n",
        "\n",
        "   To minimise a cost function , gradient descent is often used in machine learning and deep learning. Yet it's not only used in    these two fields, it's also widely used in other fields such as: computer games and mechanical engineering.\n",
        "\n",
        "\n",
        "3. When it is used.\n",
        "   \n",
        "   Not all functions can be solved by the gradient descent algorithm, two requirements must be met, functions must be              differentiable -have derivatives for each points in their domains- and convex - the line segment connecting two function’s      points lays on or above its curve -. If these two requirements are met then gradient descent algorithm will start by choosing    a starting point (initialisation) then calculating gradient at this point, making a scaled step in the opposite direction to    the gradient (objective: minimise) and finally repeat the previous 2 steps until one of the criteria is met: - maximum number    of iterations reached or step size is smaller than the tolerance.\n",
        "\n",
        "\n",
        "4. Examples of its usage.\n",
        "   \n",
        "   Relating to data analytics, gradient descent algorithm can be used within the linear regression process to find the best-fit    line for a given training dataset in a smaller number of iterations than the least squares algorithm, by following the steps    mentioned in the previous part, considering the learning rate in the calculation of each step.\n",
        "\n",
        "\n",
        "References:-\n",
        "\n",
        "1. https://machinelearningmastery.com/gradient-descent-for-machine-learning/\n",
        "\n",
        "2. https://towardsdatascience.com/gradient-descent-algorithm-a-deep-dive-cf04e8115f21#:~:text=Gradient%20descent%20(GD)%20is%20an,e.g.%20in%20a%20linear%20regression).\n",
        "\n",
        "3. https://www.analyticsvidhya.com/blog/2021/04/gradient-descent-in-linear-regression/#:~:text=Gradient%20Descent%20is%20an%20algorithm,a%20smaller%20number%20of%20iterations.&text=For%20some%20combination%20of%20m,us%20our%20best%20fit%20line.\n",
        "    "
      ]
    },
    {
      "cell_type": "markdown",
      "metadata": {
        "id": "Hheqaq51lyiJ"
      },
      "source": [
        "# 20- Explaining gradient descent to non-technical clients."
      ]
    },
    {
      "cell_type": "markdown",
      "metadata": {
        "id": "604GeIVAlyiJ"
      },
      "source": [
        "I would explain the algorithm of gradient descent simply not technicaly or mathematically by the following example: -\n",
        "Considering a blindfolded climber who wants to climb up a hill with the fewest steps possible, as long as he is not close to the top, he will probably climb the hill by taking really big steps in the steepest direction. To avoid overshooting the top -missing the top-, he will take smaller steps as he feels getting closer to it. Mathematically, the gradient descent algorithm is used similarly to find the minimum value of a function (hill top) from a starting point with the fewest steps possible.\n",
        "\n",
        "Reference:- https://builtin.com/data-science/gradient-descent"
      ]
    },
    {
      "cell_type": "markdown",
      "metadata": {
        "id": "sNQMNTDjlyiJ"
      },
      "source": [
        "# 21- Providing useful visualizations highlighting relationships between 2 chosen categorical features and other features."
      ]
    },
    {
      "cell_type": "code",
      "execution_count": null,
      "metadata": {
        "id": "hZbWF_trlyiJ",
        "outputId": "3528806b-340d-4e79-aefd-3076a5d2175e"
      },
      "outputs": [
        {
          "data": {
            "text/plain": [
              "car_ID              205\n",
              "symboling             6\n",
              "CarName             147\n",
              "fueltype              2\n",
              "aspiration            2\n",
              "doornumber            2\n",
              "carbody               5\n",
              "drivewheel            3\n",
              "enginelocation        2\n",
              "wheelbase            53\n",
              "carlength            75\n",
              "carwidth             44\n",
              "carheight            49\n",
              "curbweight          171\n",
              "enginetype            7\n",
              "cylindernumber        7\n",
              "enginesize           44\n",
              "fuelsystem            8\n",
              "boreratio            38\n",
              "stroke               37\n",
              "compressionratio     32\n",
              "horsepower           59\n",
              "peakrpm              23\n",
              "citympg              29\n",
              "highwaympg           30\n",
              "price               189\n",
              "dtype: int64"
            ]
          },
          "execution_count": 23,
          "metadata": {},
          "output_type": "execute_result"
        }
      ],
      "source": [
        "#Chosing the categorical features\n",
        "df.nunique()"
      ]
    },
    {
      "cell_type": "markdown",
      "metadata": {
        "id": "17drTADwlyiJ"
      },
      "source": [
        "From the above counts, its clear that the fueltype and enginelocation are categorical features with 2 categories, they will be chosen to visualize the relationship between them and other important features."
      ]
    },
    {
      "cell_type": "code",
      "execution_count": null,
      "metadata": {
        "id": "xFr-zKGglyiJ",
        "outputId": "ba1070e7-a95a-4905-edcf-f45eb8522963"
      },
      "outputs": [
        {
          "data": {
            "image/png": "[encoded data removed]",
            "text/plain": [
              "<Figure size 432x288 with 1 Axes>"
            ]
          },
          "metadata": {
            "needs_background": "light"
          },
          "output_type": "display_data"
        },
        {
          "data": {
            "image/png": "[encoded data removed]",
            "text/plain": [
              "<Figure size 432x288 with 1 Axes>"
            ]
          },
          "metadata": {
            "needs_background": "light"
          },
          "output_type": "display_data"
        },
        {
          "data": {
            "image/png": "[encoded data removed]",
            "text/plain": [
              "<Figure size 432x288 with 1 Axes>"
            ]
          },
          "metadata": {
            "needs_background": "light"
          },
          "output_type": "display_data"
        }
      ],
      "source": [
        "f = ['price', 'horsepower', 'curbweight']\n",
        "# box plot\n",
        "for i in f:\n",
        "    sns.boxplot(y=i, x='fueltype', data=df) #category on x and numbers on y\n",
        "    plt.show()"
      ]
    },
    {
      "cell_type": "markdown",
      "metadata": {
        "id": "gfEqxTIRlyiK"
      },
      "source": [
        "Although the difference must be statistically tested to be considered significant, the visualizations show that:-\n",
        "\n",
        "1. The mean price for cars whose fuel type is diesel is slightly larger than  whose fuel type is gas.\n",
        "\n",
        "2. The mean horsepower for cars whose fuel type is gas is slightly larger than  whose fuel type is diesel.\n",
        "\n",
        "3. The mean curbweight for cars whose fuel type is diesel is  larger than  whose fuel type is gas."
      ]
    },
    {
      "cell_type": "code",
      "execution_count": null,
      "metadata": {
        "id": "VDZySItLlyiK",
        "outputId": "f3399add-9a5b-4299-d4d1-f35949cf6a04"
      },
      "outputs": [
        {
          "data": {
            "image/png": "[encoded data removed]",
            "text/plain": [
              "<Figure size 432x288 with 1 Axes>"
            ]
          },
          "metadata": {
            "needs_background": "light"
          },
          "output_type": "display_data"
        },
        {
          "data": {
            "image/png": "[encoded data removed]",
            "text/plain": [
              "<Figure size 432x288 with 1 Axes>"
            ]
          },
          "metadata": {
            "needs_background": "light"
          },
          "output_type": "display_data"
        },
        {
          "data": {
            "image/png": "[encoded data removed]",
            "text/plain": [
              "<Figure size 432x288 with 1 Axes>"
            ]
          },
          "metadata": {
            "needs_background": "light"
          },
          "output_type": "display_data"
        }
      ],
      "source": [
        "f = ['price', 'enginesize', 'curbweight']\n",
        "# box plot\n",
        "for i in f:\n",
        "    sns.boxplot(y=i, x='enginelocation', data=df) #category on x and numbers on y\n",
        "    plt.show()"
      ]
    },
    {
      "cell_type": "markdown",
      "metadata": {
        "id": "0RakJ6-tlyiK"
      },
      "source": [
        "Although the difference must be statistically tested to be considered significant,the visualizations shows that:-\n",
        "\n",
        "1. Cars whose enginelocation is in th rear have a higher mean of prices than cars whose enginelocation is front.\n",
        "\n",
        "2. Cars whose enginelocation is in th rear have a higher mean of engine sizes than cars whose enginelocation is front.\n",
        "\n",
        "3. Cars whose enginelocation is in th rear have a higher mean of curbweights than cars whose enginelocation is front."
      ]
    },
    {
      "cell_type": "markdown",
      "metadata": {
        "id": "QIrIcmtZlyiK"
      },
      "source": [
        "# 22-  Providing useful visualization for two data features and overlaping it with other features which might be useful in better understanding the data."
      ]
    },
    {
      "cell_type": "code",
      "execution_count": null,
      "metadata": {
        "id": "5RYdf6fdlyiK",
        "outputId": "4eff75a1-efb1-49fd-97cf-a01415b644e7"
      },
      "outputs": [
        {
          "data": {
            "image/png": "[encoded data removed]",
            "text/plain": [
              "<Figure size 441.875x360 with 1 Axes>"
            ]
          },
          "metadata": {
            "needs_background": "light"
          },
          "output_type": "display_data"
        }
      ],
      "source": [
        "# cat plot (categorical) for fueltype and price features, overlaped with enginelocation feature for better understanding of data\n",
        "sns.catplot(x='fueltype', y='price', hue='enginelocation', kind='bar', data=df)\n",
        "plt.show()"
      ]
    },
    {
      "cell_type": "markdown",
      "metadata": {
        "id": "fSLF7ytRlyiN"
      },
      "source": [
        "The visualization shows that cars whose engine location is rear using gas as a fuel have the highest mean of prices than front engine gas cars or front engine diesel cars. Also, probably, cars that use diesel as the fuel type can't have their engine at rear."
      ]
    },
    {
      "cell_type": "code",
      "execution_count": null,
      "metadata": {
        "id": "vUU0_35PlyiO",
        "outputId": "ece44d5c-c0e1-435d-bb9b-a83c667a20d7"
      },
      "outputs": [
        {
          "data": {
            "image/png": "[encoded data removed]",
            "text/plain": [
              "<Figure size 432x288 with 1 Axes>"
            ]
          },
          "metadata": {
            "needs_background": "light"
          },
          "output_type": "display_data"
        }
      ],
      "source": [
        "# Scatter plot with one categorical feature for curbweight and price features, overlaped with fueltype feature for better understanding of data\n",
        "sns.scatterplot(x=\"curbweight\", y=\"price\", hue=\"doornumber\", data=df)\n",
        "plt.show()"
      ]
    },
    {
      "cell_type": "markdown",
      "metadata": {
        "id": "kLt9ETkYlyiO"
      },
      "source": [
        "This visualization shows that car prices increase lineary with the increment of curb weight. Also, higher prices seem to be obtained by cars that have 2 doors."
      ]
    }
  ],
  "metadata": {
    "kernelspec": {
      "display_name": "Python 3",
      "language": "python",
      "name": "python3"
    },
    "language_info": {
      "codemirror_mode": {
        "name": "ipython",
        "version": 3
      },
      "file_extension": ".py",
      "mimetype": "text/x-python",
      "name": "python",
      "nbconvert_exporter": "python",
      "pygments_lexer": "ipython3",
      "version": "3.8.5"
    },
    "colab": {
      "provenance": []
    }
  },
  "nbformat": 4,
  "nbformat_minor": 0
}